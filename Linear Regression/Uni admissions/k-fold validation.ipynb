{
 "cells": [
  {
   "cell_type": "markdown",
   "source": [
    "# Perform regression first"
   ],
   "metadata": {}
  },
  {
   "cell_type": "code",
   "execution_count": 3,
   "source": [
    "import pandas as pd\n",
    "import numpy as np\n",
    "import matplotlib.pyplot as plt\n",
    "from sklearn.model_selection import train_test_split\n",
    "from sklearn.linear_model import LinearRegression\n",
    "from sklearn import metrics"
   ],
   "outputs": [],
   "metadata": {}
  },
  {
   "cell_type": "code",
   "execution_count": 15,
   "source": [
    "df = pd.read_csv('/Users/RyanMburu/Documents/Supervised-Learning/Regression/Uni admissions/uni_admission.csv')\n",
    "df\n",
    "\n",
    "X = df[['GRE', 'TOEFL', 'SOP', 'LOR']].values\n",
    "y = df['admit_chance'].values\n",
    "\n",
    "X_train, X_test, y_train, y_test = train_test_split(X, y, test_size=0.2, random_state=0)\n",
    "\n",
    "regressor = LinearRegression()\n",
    "regressor.fit(X_train, y_train)\n",
    "\n",
    "y_pred = regressor.predict(X_test)"
   ],
   "outputs": [],
   "metadata": {}
  },
  {
   "cell_type": "code",
   "execution_count": 16,
   "source": [
    "# Calculate RMSE\n",
    "print('RMSE is : ', np.sqrt(metrics.mean_squared_error(y_test, y_pred)))"
   ],
   "outputs": [
    {
     "output_type": "stream",
     "name": "stdout",
     "text": [
      "RMSE is :  0.07566985181185873\n"
     ]
    }
   ],
   "metadata": {}
  },
  {
   "cell_type": "markdown",
   "source": [
    "# K-Fold Validation"
   ],
   "metadata": {}
  },
  {
   "cell_type": "code",
   "execution_count": 18,
   "source": [
    "from sklearn.model_selection import KFold"
   ],
   "outputs": [],
   "metadata": {}
  },
  {
   "cell_type": "code",
   "execution_count": 19,
   "source": [
    "# Will use 4 variables as before\n",
    "\n",
    "X = df[['GRE', 'TOEFL', 'SOP', 'LOR']].values\n",
    "y = df['admit_chance'].values"
   ],
   "outputs": [],
   "metadata": {}
  },
  {
   "cell_type": "code",
   "execution_count": 20,
   "source": [
    "# number of folds\n",
    "folds = KFold(n_splits=5)"
   ],
   "outputs": [],
   "metadata": {}
  },
  {
   "cell_type": "code",
   "execution_count": 22,
   "source": [
    "# Number of splits\n",
    "print('we are using ' +str(folds.get_n_splits(X)) + ' folds')"
   ],
   "outputs": [
    {
     "output_type": "stream",
     "name": "stdout",
     "text": [
      "we are using 5 folds\n"
     ]
    }
   ],
   "metadata": {}
  },
  {
   "cell_type": "code",
   "execution_count": 23,
   "source": [
    "# Find the RMSE value for every fold\n",
    "\n",
    "RMSE = []\n",
    "count = 1\n",
    "\n",
    "for train_index, test_index in folds.split(X):\n",
    "    print ('\\nTraining model : ' + str(count))\n",
    "\n",
    "    # set training and testing sets based on splits set by kfold\n",
    "    X_train, X_test = X[train_index], X[test_index]\n",
    "    y_train, y_test = y[train_index], y[test_index]\n",
    "\n",
    "    # Fit regressor\n",
    "    regressor = LinearRegression()\n",
    "    regressor.fit(X_train, y_train)\n",
    "\n",
    "    # y-pred\n",
    "    y_pred = regressor.predict(X_test)\n",
    "\n",
    "    #calculate RMSE and append them onto the empty array\n",
    "    rmse_val = np.sqrt(metrics.mean_squared_error(y_test, y_pred))\n",
    "    RMSE.append(rmse_val)\n",
    "\n",
    "    # Print each fold's RMSE\n",
    "    print('Model ' + str(count) + 'RMSE is : ', rmse_val)\n",
    "    count = count + 1\n",
    "\n",
    "    \n",
    "\n"
   ],
   "outputs": [
    {
     "output_type": "stream",
     "name": "stdout",
     "text": [
      "\n",
      "Training model : 1\n",
      "Model 1RMSE is :  0.11384971151782938\n",
      "\n",
      "Training model : 2\n",
      "Model 2RMSE is :  0.06279391885787512\n",
      "\n",
      "Training model : 3\n",
      "Model 3RMSE is :  0.05049941911260565\n",
      "\n",
      "Training model : 4\n",
      "Model 4RMSE is :  0.06680059377472888\n",
      "\n",
      "Training model : 5\n",
      "Model 5RMSE is :  0.05995110606834262\n"
     ]
    }
   ],
   "metadata": {}
  },
  {
   "cell_type": "code",
   "execution_count": null,
   "source": [],
   "outputs": [],
   "metadata": {}
  }
 ],
 "metadata": {
  "orig_nbformat": 4,
  "language_info": {
   "name": "python",
   "version": "3.8.8",
   "mimetype": "text/x-python",
   "codemirror_mode": {
    "name": "ipython",
    "version": 3
   },
   "pygments_lexer": "ipython3",
   "nbconvert_exporter": "python",
   "file_extension": ".py"
  },
  "kernelspec": {
   "name": "python3",
   "display_name": "Python 3.8.8 64-bit ('base': conda)"
  },
  "interpreter": {
   "hash": "5e33e5004145b98e8222cb2d939e6df70ade89a40d2ac6741c844fb03b1308f9"
  }
 },
 "nbformat": 4,
 "nbformat_minor": 2
}