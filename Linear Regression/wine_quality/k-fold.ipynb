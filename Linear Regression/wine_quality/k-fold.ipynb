{
 "cells": [
  {
   "cell_type": "code",
   "execution_count": 2,
   "source": [
    "import pandas as pd\n",
    "import numpy as np\n",
    "import matplotlib.pyplot as plt\n",
    "from sklearn.model_selection import train_test_split\n",
    "from sklearn.linear_model import LinearRegression\n",
    "from sklearn import metrics\n",
    "from sklearn.model_selection import KFold"
   ],
   "outputs": [],
   "metadata": {}
  },
  {
   "cell_type": "code",
   "execution_count": 14,
   "source": [
    "df = pd.read_csv('/Users/RyanMburu/Documents/Supervised-Learning/Regression/wine_quality/winequality-red.csv')\n",
    "df\n",
    "\n",
    "X = df[['fixed acidity', 'volatile acidity', 'citric acid', 'residual sugar', 'chlorides', 'free sulfur dioxide', 'total sulfur dioxide', 'density', 'pH', 'sulphates', 'alcohol']].values\n",
    "y = df['quality'].values\n",
    "\n",
    "folds = KFold(n_splits=10)\n",
    "\n",
    "# Perform regression on each fold and find the RMSE for each\n",
    "\n",
    "RMSES = []\n",
    "count = 1\n",
    "\n",
    "for train_index, test_index in folds.split(X):\n",
    "    print('\\nTraining model ' + str(count))\n",
    "\n",
    "    X_train, X_test = X[train_index], X[test_index]\n",
    "    y_train, y_test = y[train_index], y[test_index]\n",
    "\n",
    "    regressor = LinearRegression()\n",
    "    regressor.fit(X_train, y_train)\n",
    "\n",
    "    y_pred = regressor.predict(X_test)\n",
    "\n",
    "    rmse = np.sqrt(metrics.mean_squared_error(y_test, y_pred))\n",
    "    RMSES.append(rmse)\n",
    "\n",
    "    print('Training model ' + str(count) + ' has an RMSE of : ' , rmse)\n",
    "    count = count + 1 \n",
    "\n",
    "\n"
   ],
   "outputs": [
    {
     "output_type": "stream",
     "name": "stdout",
     "text": [
      "\n",
      "Training model 1\n",
      "Training model 1 has an RMSE of :  0.6862481195221852\n",
      "\n",
      "Training model 2\n",
      "Training model 2 has an RMSE of :  0.6324703434524642\n",
      "\n",
      "Training model 3\n",
      "Training model 3 has an RMSE of :  0.6850468988873282\n",
      "\n",
      "Training model 4\n",
      "Training model 4 has an RMSE of :  0.6570566965861606\n",
      "\n",
      "Training model 5\n",
      "Training model 5 has an RMSE of :  0.6137235391805053\n",
      "\n",
      "Training model 6\n",
      "Training model 6 has an RMSE of :  0.7236010030500887\n",
      "\n",
      "Training model 7\n",
      "Training model 7 has an RMSE of :  0.6328197305573448\n",
      "\n",
      "Training model 8\n",
      "Training model 8 has an RMSE of :  0.6553239884798185\n",
      "\n",
      "Training model 9\n",
      "Training model 9 has an RMSE of :  0.6014941518907087\n",
      "\n",
      "Training model 10\n",
      "Training model 10 has an RMSE of :  0.6985130757721059\n"
     ]
    }
   ],
   "metadata": {}
  }
 ],
 "metadata": {
  "orig_nbformat": 4,
  "language_info": {
   "name": "python",
   "version": "3.8.8",
   "mimetype": "text/x-python",
   "codemirror_mode": {
    "name": "ipython",
    "version": 3
   },
   "pygments_lexer": "ipython3",
   "nbconvert_exporter": "python",
   "file_extension": ".py"
  },
  "kernelspec": {
   "name": "python3",
   "display_name": "Python 3.8.8 64-bit ('base': conda)"
  },
  "interpreter": {
   "hash": "5e33e5004145b98e8222cb2d939e6df70ade89a40d2ac6741c844fb03b1308f9"
  }
 },
 "nbformat": 4,
 "nbformat_minor": 2
}